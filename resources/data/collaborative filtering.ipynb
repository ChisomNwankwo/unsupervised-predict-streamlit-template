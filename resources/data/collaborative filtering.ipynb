{
 "cells": [
  {
   "cell_type": "code",
   "execution_count": 2,
   "id": "bedae9dc",
   "metadata": {},
   "outputs": [],
   "source": [
    "import pandas as pd\n",
    "import numpy as np\n",
    "import pickle\n",
    "import copy\n",
    "from surprise import Reader, Dataset\n",
    "from surprise import SVD, NormalPredictor, BaselineOnly, KNNBasic, NMF\n",
    "from sklearn.metrics.pairwise import cosine_similarity\n",
    "from sklearn.feature_extraction.text import CountVectorizer\n",
    "import scipy as sp "
   ]
  },
  {
   "cell_type": "code",
   "execution_count": 3,
   "id": "841333d0",
   "metadata": {},
   "outputs": [],
   "source": [
    "# Importing data\n",
    "movies_df = pd.read_csv('movies.csv',sep = ',')\n",
    "ratings_df = pd.read_csv('ratings.csv')\n",
    "ratings_df.drop(['timestamp'], axis=1,inplace=True)"
   ]
  },
  {
   "cell_type": "code",
   "execution_count": 13,
   "id": "e1d06c2d",
   "metadata": {},
   "outputs": [],
   "source": [
    "movie_1 = movies_df[14930:15200]\n",
    "movie_2 = movies_df[25055:25255]\n",
    "movie_3 = movies_df[21100:21200]"
   ]
  },
  {
   "cell_type": "code",
   "execution_count": 45,
   "id": "dc8003f7",
   "metadata": {},
   "outputs": [],
   "source": [
    "n_movies=pd.concat([movie_1,movie_2,movie_3],axis=0,ignore_index=True)"
   ]
  },
  {
   "cell_type": "code",
   "execution_count": 46,
   "id": "127ece77",
   "metadata": {},
   "outputs": [],
   "source": [
    "n_ratings = pd.merge(ratings_df,new_movies['movieId'], on='movieId')"
   ]
  },
  {
   "cell_type": "code",
   "execution_count": 4,
   "id": "e2402092",
   "metadata": {},
   "outputs": [],
   "source": [
    "# We make use of an SVD model trained on a subset of the MovieLens 10k dataset.\n",
    "model=pickle.load(open('SVD.pkl', 'rb'))"
   ]
  },
  {
   "cell_type": "code",
   "execution_count": 5,
   "id": "80baabb2",
   "metadata": {},
   "outputs": [
    {
     "data": {
      "text/plain": [
       "<surprise.prediction_algorithms.matrix_factorization.SVD at 0x2190d78cb50>"
      ]
     },
     "execution_count": 5,
     "metadata": {},
     "output_type": "execute_result"
    }
   ],
   "source": [
    "model"
   ]
  },
  {
   "cell_type": "code",
   "execution_count": 59,
   "id": "9cee9bef",
   "metadata": {},
   "outputs": [],
   "source": [
    "def prediction_item(movie_id):\n",
    "    \"\"\"Map a given favourite movie to users within the MovieLens dataset with the same preference.\n",
    "\n",
    "    Parameters\n",
    "    ----------\n",
    "    movie_id : int\n",
    "        A MovieLens Movie ID.\n",
    "    ratings_df : pandas DataFrame\n",
    "        DataFrame containing the ratings data.\n",
    "    model : surprise.Prediction algorithm\n",
    "        Trained prediction algorithm.\n",
    "\n",
    "    Returns\n",
    "    -------\n",
    "    list\n",
    "        List of Prediction objects for all users on the given movie.\n",
    "\n",
    "    \"\"\"\n",
    "    # Load the data into a Surprise Dataset\n",
    "    reader = Reader(rating_scale=(0, 5))\n",
    "    load_df = Dataset.load_from_df(new_ratings, reader)\n",
    "    full_trainset = load_df.build_full_trainset()\n",
    "\n",
    "    # Make predictions for all users on the given movie\n",
    "    predictions = []\n",
    "    for uid in full_trainset.all_users():\n",
    "        predictions.append(model.predict(iid=movie_id, uid=uid, verbose=False))\n",
    "    return predictions\n"
   ]
  },
  {
   "cell_type": "code",
   "execution_count": 66,
   "id": "75e799f1",
   "metadata": {},
   "outputs": [],
   "source": [
    "def pred_movies(movie_list):\n",
    "    \"\"\"Maps the given favourite movies selected within the app to corresponding\n",
    "    users within the MovieLens dataset.\n",
    "\n",
    "    Parameters\n",
    "    ----------\n",
    "    movie_list : list\n",
    "        Three favourite movies selected by the app user.\n",
    "\n",
    "    Returns\n",
    "    -------\n",
    "    list\n",
    "        User-ID's of users with similar high ratings for each movie.\n",
    "\n",
    "    \"\"\"\n",
    "    # Store the id of users\n",
    "    id_store=[]\n",
    "    # For each movie selected by a user of the app,\n",
    "    # predict a corresponding user within the dataset with the highest rating\n",
    "    for i in movie_list:\n",
    "        predictions = prediction_item(movie_id = i)\n",
    "        predictions.sort(key=lambda x: x.est, reverse=True)\n",
    "        # Take the top 10 user id's from each movie with highest rankings\n",
    "        for pred in predictions[:10]:\n",
    "            id_store.append(pred.uid)\n",
    "    # Return a list of user id's\n",
    "    return id_store\n"
   ]
  },
  {
   "cell_type": "code",
   "execution_count": 61,
   "id": "0a977ee7",
   "metadata": {},
   "outputs": [],
   "source": [
    "movie_list=['Boob, The (1926)','That Awkward Moment (2014)','Interstellar (2014)']"
   ]
  },
  {
   "cell_type": "code",
   "execution_count": 73,
   "id": "74e64f05",
   "metadata": {},
   "outputs": [],
   "source": [
    "def collab_model(movie_list, N=10):\n",
    "    \"\"\"Performs Collaborative filtering based upon a list of movies supplied\n",
    "       by the app user.\n",
    "\n",
    "    Parameters\n",
    "    ----------\n",
    "    movie_list : list (str)\n",
    "        Favorite movies chosen by the app user.\n",
    "    N : int\n",
    "        Number of top recommendations to return to the user.\n",
    "\n",
    "    Returns\n",
    "    -------\n",
    "    list (str)\n",
    "        Titles of the top-N movie recommendations to the user.\n",
    "    \"\"\"\n",
    "\n",
    "    #movie_ids = pred_movies(movie_list,ratings_df,model)\n",
    "    #df_init_users = pd.merge(ratings_df, movies_df[['movieId', 'title']], on='movieId', how='inner')\n",
    "    #df_init_users = df_init_users[df_init_users['userId'].isin(movie_ids)]\n",
    "    indices = pd.Series(new_movies['title'])\n",
    "    movie_ids = pred_movies(movie_list)\n",
    "    df_init_users = new_ratings[new_ratings['userId']==movie_ids[0]]\n",
    "    for i in movie_ids :\n",
    "        df_init_users=df_init_users.append(new_ratings[new_ratings['userId']==i])\n",
    "        \n",
    "    \n",
    "    cosine_sim = cosine_similarity(np.array(df_init_users), np.array(df_init_users))\n",
    "\n",
    "    idx_1 = indices[indices == movie_list[0]].index[0]\n",
    "    idx_2 = indices[indices == movie_list[1]].index[0]\n",
    "    idx_3 = indices[indices == movie_list[2]].index[0]\n",
    "    \n",
    "    \n",
    "   \n",
    "    idx_1 = new_movies[new_movies['title'] == movie_list[0]].index[0]\n",
    "    rank_1 = cosine_sim[idx_1]\n",
    "    \n",
    "    idx_2 = new_movies[new_movies['title'] == movie_list[1]].index[0]\n",
    "    rank_2 = cosine_sim[idx_2]\n",
    "    \n",
    "    idx_3 = new_movies[new_movies['title'] == movie_list[2]].index[0]\n",
    "    rank_3 = cosine_sim[idx_3]\n",
    "\n",
    "\n",
    "    score_series_1 = pd.Series(rank_1).sort_values(ascending=False)\n",
    "    score_series_2 = pd.Series(rank_2).sort_values(ascending=False)\n",
    "    score_series_3 = pd.Series(rank_3).sort_values(ascending=False)\n",
    "    # Appending the names of movies\n",
    "    listings = score_series_1.append(score_series_2).append(score_series_3).sort_values(ascending = False)\n",
    "    recommended_movies = []\n",
    "    # Choose top 50\n",
    "    top_50_indexes = list(listings.iloc[1:50].index)\n",
    "    # Removing chosen movies\n",
    "    top_indexes = np.setdiff1d(top_50_indexes,[idx_1,idx_2,idx_3])\n",
    "    for i in top_indexes[:N]: \n",
    "        recommended_movies.append(list(movies_df['title'])[i])\n",
    "    return recommended_movies\n"
   ]
  },
  {
   "cell_type": "code",
   "execution_count": 74,
   "id": "3dab45d7",
   "metadata": {},
   "outputs": [],
   "source": [
    "movie_list=['Boob, The (1926)','That Awkward Moment (2014)','Interstellar (2014)']"
   ]
  },
  {
   "cell_type": "code",
   "execution_count": 75,
   "id": "f5b7f548",
   "metadata": {},
   "outputs": [
    {
     "name": "stderr",
     "output_type": "stream",
     "text": [
      "C:\\Users\\PC\\AppData\\Local\\Temp\\ipykernel_14540\\2703713377.py:25: FutureWarning: The frame.append method is deprecated and will be removed from pandas in a future version. Use pandas.concat instead.\n",
      "  df_init_users=df_init_users.append(new_ratings[new_ratings['userId']==i])\n",
      "C:\\Users\\PC\\AppData\\Local\\Temp\\ipykernel_14540\\2703713377.py:25: FutureWarning: The frame.append method is deprecated and will be removed from pandas in a future version. Use pandas.concat instead.\n",
      "  df_init_users=df_init_users.append(new_ratings[new_ratings['userId']==i])\n",
      "C:\\Users\\PC\\AppData\\Local\\Temp\\ipykernel_14540\\2703713377.py:25: FutureWarning: The frame.append method is deprecated and will be removed from pandas in a future version. Use pandas.concat instead.\n",
      "  df_init_users=df_init_users.append(new_ratings[new_ratings['userId']==i])\n",
      "C:\\Users\\PC\\AppData\\Local\\Temp\\ipykernel_14540\\2703713377.py:25: FutureWarning: The frame.append method is deprecated and will be removed from pandas in a future version. Use pandas.concat instead.\n",
      "  df_init_users=df_init_users.append(new_ratings[new_ratings['userId']==i])\n",
      "C:\\Users\\PC\\AppData\\Local\\Temp\\ipykernel_14540\\2703713377.py:25: FutureWarning: The frame.append method is deprecated and will be removed from pandas in a future version. Use pandas.concat instead.\n",
      "  df_init_users=df_init_users.append(new_ratings[new_ratings['userId']==i])\n",
      "C:\\Users\\PC\\AppData\\Local\\Temp\\ipykernel_14540\\2703713377.py:25: FutureWarning: The frame.append method is deprecated and will be removed from pandas in a future version. Use pandas.concat instead.\n",
      "  df_init_users=df_init_users.append(new_ratings[new_ratings['userId']==i])\n",
      "C:\\Users\\PC\\AppData\\Local\\Temp\\ipykernel_14540\\2703713377.py:25: FutureWarning: The frame.append method is deprecated and will be removed from pandas in a future version. Use pandas.concat instead.\n",
      "  df_init_users=df_init_users.append(new_ratings[new_ratings['userId']==i])\n",
      "C:\\Users\\PC\\AppData\\Local\\Temp\\ipykernel_14540\\2703713377.py:25: FutureWarning: The frame.append method is deprecated and will be removed from pandas in a future version. Use pandas.concat instead.\n",
      "  df_init_users=df_init_users.append(new_ratings[new_ratings['userId']==i])\n",
      "C:\\Users\\PC\\AppData\\Local\\Temp\\ipykernel_14540\\2703713377.py:25: FutureWarning: The frame.append method is deprecated and will be removed from pandas in a future version. Use pandas.concat instead.\n",
      "  df_init_users=df_init_users.append(new_ratings[new_ratings['userId']==i])\n",
      "C:\\Users\\PC\\AppData\\Local\\Temp\\ipykernel_14540\\2703713377.py:25: FutureWarning: The frame.append method is deprecated and will be removed from pandas in a future version. Use pandas.concat instead.\n",
      "  df_init_users=df_init_users.append(new_ratings[new_ratings['userId']==i])\n",
      "C:\\Users\\PC\\AppData\\Local\\Temp\\ipykernel_14540\\2703713377.py:25: FutureWarning: The frame.append method is deprecated and will be removed from pandas in a future version. Use pandas.concat instead.\n",
      "  df_init_users=df_init_users.append(new_ratings[new_ratings['userId']==i])\n",
      "C:\\Users\\PC\\AppData\\Local\\Temp\\ipykernel_14540\\2703713377.py:25: FutureWarning: The frame.append method is deprecated and will be removed from pandas in a future version. Use pandas.concat instead.\n",
      "  df_init_users=df_init_users.append(new_ratings[new_ratings['userId']==i])\n",
      "C:\\Users\\PC\\AppData\\Local\\Temp\\ipykernel_14540\\2703713377.py:25: FutureWarning: The frame.append method is deprecated and will be removed from pandas in a future version. Use pandas.concat instead.\n",
      "  df_init_users=df_init_users.append(new_ratings[new_ratings['userId']==i])\n",
      "C:\\Users\\PC\\AppData\\Local\\Temp\\ipykernel_14540\\2703713377.py:25: FutureWarning: The frame.append method is deprecated and will be removed from pandas in a future version. Use pandas.concat instead.\n",
      "  df_init_users=df_init_users.append(new_ratings[new_ratings['userId']==i])\n",
      "C:\\Users\\PC\\AppData\\Local\\Temp\\ipykernel_14540\\2703713377.py:25: FutureWarning: The frame.append method is deprecated and will be removed from pandas in a future version. Use pandas.concat instead.\n",
      "  df_init_users=df_init_users.append(new_ratings[new_ratings['userId']==i])\n",
      "C:\\Users\\PC\\AppData\\Local\\Temp\\ipykernel_14540\\2703713377.py:25: FutureWarning: The frame.append method is deprecated and will be removed from pandas in a future version. Use pandas.concat instead.\n",
      "  df_init_users=df_init_users.append(new_ratings[new_ratings['userId']==i])\n",
      "C:\\Users\\PC\\AppData\\Local\\Temp\\ipykernel_14540\\2703713377.py:25: FutureWarning: The frame.append method is deprecated and will be removed from pandas in a future version. Use pandas.concat instead.\n",
      "  df_init_users=df_init_users.append(new_ratings[new_ratings['userId']==i])\n",
      "C:\\Users\\PC\\AppData\\Local\\Temp\\ipykernel_14540\\2703713377.py:25: FutureWarning: The frame.append method is deprecated and will be removed from pandas in a future version. Use pandas.concat instead.\n",
      "  df_init_users=df_init_users.append(new_ratings[new_ratings['userId']==i])\n",
      "C:\\Users\\PC\\AppData\\Local\\Temp\\ipykernel_14540\\2703713377.py:25: FutureWarning: The frame.append method is deprecated and will be removed from pandas in a future version. Use pandas.concat instead.\n",
      "  df_init_users=df_init_users.append(new_ratings[new_ratings['userId']==i])\n",
      "C:\\Users\\PC\\AppData\\Local\\Temp\\ipykernel_14540\\2703713377.py:25: FutureWarning: The frame.append method is deprecated and will be removed from pandas in a future version. Use pandas.concat instead.\n",
      "  df_init_users=df_init_users.append(new_ratings[new_ratings['userId']==i])\n",
      "C:\\Users\\PC\\AppData\\Local\\Temp\\ipykernel_14540\\2703713377.py:25: FutureWarning: The frame.append method is deprecated and will be removed from pandas in a future version. Use pandas.concat instead.\n",
      "  df_init_users=df_init_users.append(new_ratings[new_ratings['userId']==i])\n",
      "C:\\Users\\PC\\AppData\\Local\\Temp\\ipykernel_14540\\2703713377.py:25: FutureWarning: The frame.append method is deprecated and will be removed from pandas in a future version. Use pandas.concat instead.\n",
      "  df_init_users=df_init_users.append(new_ratings[new_ratings['userId']==i])\n",
      "C:\\Users\\PC\\AppData\\Local\\Temp\\ipykernel_14540\\2703713377.py:25: FutureWarning: The frame.append method is deprecated and will be removed from pandas in a future version. Use pandas.concat instead.\n",
      "  df_init_users=df_init_users.append(new_ratings[new_ratings['userId']==i])\n",
      "C:\\Users\\PC\\AppData\\Local\\Temp\\ipykernel_14540\\2703713377.py:25: FutureWarning: The frame.append method is deprecated and will be removed from pandas in a future version. Use pandas.concat instead.\n",
      "  df_init_users=df_init_users.append(new_ratings[new_ratings['userId']==i])\n",
      "C:\\Users\\PC\\AppData\\Local\\Temp\\ipykernel_14540\\2703713377.py:25: FutureWarning: The frame.append method is deprecated and will be removed from pandas in a future version. Use pandas.concat instead.\n",
      "  df_init_users=df_init_users.append(new_ratings[new_ratings['userId']==i])\n",
      "C:\\Users\\PC\\AppData\\Local\\Temp\\ipykernel_14540\\2703713377.py:25: FutureWarning: The frame.append method is deprecated and will be removed from pandas in a future version. Use pandas.concat instead.\n",
      "  df_init_users=df_init_users.append(new_ratings[new_ratings['userId']==i])\n",
      "C:\\Users\\PC\\AppData\\Local\\Temp\\ipykernel_14540\\2703713377.py:25: FutureWarning: The frame.append method is deprecated and will be removed from pandas in a future version. Use pandas.concat instead.\n",
      "  df_init_users=df_init_users.append(new_ratings[new_ratings['userId']==i])\n",
      "C:\\Users\\PC\\AppData\\Local\\Temp\\ipykernel_14540\\2703713377.py:25: FutureWarning: The frame.append method is deprecated and will be removed from pandas in a future version. Use pandas.concat instead.\n",
      "  df_init_users=df_init_users.append(new_ratings[new_ratings['userId']==i])\n",
      "C:\\Users\\PC\\AppData\\Local\\Temp\\ipykernel_14540\\2703713377.py:25: FutureWarning: The frame.append method is deprecated and will be removed from pandas in a future version. Use pandas.concat instead.\n",
      "  df_init_users=df_init_users.append(new_ratings[new_ratings['userId']==i])\n",
      "C:\\Users\\PC\\AppData\\Local\\Temp\\ipykernel_14540\\2703713377.py:25: FutureWarning: The frame.append method is deprecated and will be removed from pandas in a future version. Use pandas.concat instead.\n",
      "  df_init_users=df_init_users.append(new_ratings[new_ratings['userId']==i])\n"
     ]
    },
    {
     "ename": "IndexError",
     "evalue": "index 566 is out of bounds for axis 0 with size 19",
     "output_type": "error",
     "traceback": [
      "\u001b[1;31m---------------------------------------------------------------------------\u001b[0m",
      "\u001b[1;31mIndexError\u001b[0m                                Traceback (most recent call last)",
      "Input \u001b[1;32mIn [75]\u001b[0m, in \u001b[0;36m<cell line: 1>\u001b[1;34m()\u001b[0m\n\u001b[1;32m----> 1\u001b[0m \u001b[43mcollab_model\u001b[49m\u001b[43m(\u001b[49m\u001b[43mmovie_list\u001b[49m\u001b[43m,\u001b[49m\u001b[43m \u001b[49m\u001b[43mN\u001b[49m\u001b[38;5;241;43m=\u001b[39;49m\u001b[38;5;241;43m10\u001b[39;49m\u001b[43m)\u001b[49m\n",
      "Input \u001b[1;32mIn [73]\u001b[0m, in \u001b[0;36mcollab_model\u001b[1;34m(movie_list, N)\u001b[0m\n\u001b[0;32m     32\u001b[0m idx_3 \u001b[38;5;241m=\u001b[39m indices[indices \u001b[38;5;241m==\u001b[39m movie_list[\u001b[38;5;241m2\u001b[39m]]\u001b[38;5;241m.\u001b[39mindex[\u001b[38;5;241m0\u001b[39m]\n\u001b[0;32m     36\u001b[0m idx_1 \u001b[38;5;241m=\u001b[39m new_movies[new_movies[\u001b[38;5;124m'\u001b[39m\u001b[38;5;124mtitle\u001b[39m\u001b[38;5;124m'\u001b[39m] \u001b[38;5;241m==\u001b[39m movie_list[\u001b[38;5;241m0\u001b[39m]]\u001b[38;5;241m.\u001b[39mindex[\u001b[38;5;241m0\u001b[39m]\n\u001b[1;32m---> 37\u001b[0m rank_1 \u001b[38;5;241m=\u001b[39m \u001b[43mcosine_sim\u001b[49m\u001b[43m[\u001b[49m\u001b[43midx_1\u001b[49m\u001b[43m]\u001b[49m\n\u001b[0;32m     39\u001b[0m idx_2 \u001b[38;5;241m=\u001b[39m new_movies[new_movies[\u001b[38;5;124m'\u001b[39m\u001b[38;5;124mtitle\u001b[39m\u001b[38;5;124m'\u001b[39m] \u001b[38;5;241m==\u001b[39m movie_list[\u001b[38;5;241m1\u001b[39m]]\u001b[38;5;241m.\u001b[39mindex[\u001b[38;5;241m0\u001b[39m]\n\u001b[0;32m     40\u001b[0m rank_2 \u001b[38;5;241m=\u001b[39m cosine_sim[idx_2]\n",
      "\u001b[1;31mIndexError\u001b[0m: index 566 is out of bounds for axis 0 with size 19"
     ]
    }
   ],
   "source": [
    "collab_model(movie_list, N=10)"
   ]
  },
  {
   "cell_type": "code",
   "execution_count": null,
   "id": "109e9c47",
   "metadata": {},
   "outputs": [],
   "source": []
  },
  {
   "cell_type": "code",
   "execution_count": null,
   "id": "e638bc0d",
   "metadata": {},
   "outputs": [],
   "source": []
  },
  {
   "cell_type": "code",
   "execution_count": null,
   "id": "450d8e72",
   "metadata": {},
   "outputs": [],
   "source": []
  },
  {
   "cell_type": "code",
   "execution_count": null,
   "id": "5c126219",
   "metadata": {},
   "outputs": [],
   "source": []
  },
  {
   "cell_type": "code",
   "execution_count": null,
   "id": "66863607",
   "metadata": {},
   "outputs": [],
   "source": []
  },
  {
   "cell_type": "code",
   "execution_count": null,
   "id": "e8a86ec1",
   "metadata": {},
   "outputs": [],
   "source": []
  },
  {
   "cell_type": "code",
   "execution_count": null,
   "id": "6a651f13",
   "metadata": {},
   "outputs": [],
   "source": [
    " "
   ]
  },
  {
   "cell_type": "code",
   "execution_count": null,
   "id": "17124d7b",
   "metadata": {},
   "outputs": [],
   "source": []
  },
  {
   "cell_type": "code",
   "execution_count": null,
   "id": "27e6a2f0",
   "metadata": {},
   "outputs": [],
   "source": []
  },
  {
   "cell_type": "code",
   "execution_count": null,
   "id": "25773336",
   "metadata": {},
   "outputs": [],
   "source": []
  }
 ],
 "metadata": {
  "kernelspec": {
   "display_name": "Python 3 (ipykernel)",
   "language": "python",
   "name": "python3"
  },
  "language_info": {
   "codemirror_mode": {
    "name": "ipython",
    "version": 3
   },
   "file_extension": ".py",
   "mimetype": "text/x-python",
   "name": "python",
   "nbconvert_exporter": "python",
   "pygments_lexer": "ipython3",
   "version": "3.9.12"
  }
 },
 "nbformat": 4,
 "nbformat_minor": 5
}
